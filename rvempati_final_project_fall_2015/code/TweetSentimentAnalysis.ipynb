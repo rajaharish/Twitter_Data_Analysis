{
 "cells": [
  {
   "cell_type": "markdown",
   "metadata": {},
   "source": [
    "# Tweet Sentiment Prediction using Naive Bayes Classifier"
   ]
  },
  {
   "cell_type": "code",
   "execution_count": 113,
   "metadata": {
    "collapsed": false
   },
   "outputs": [],
   "source": [
    "# Read Labelled Training Data \n",
    "\n",
    "import xlrd\n",
    "\n",
    "wb = xlrd.open_workbook('./finaltrainingdata.xls')\n",
    "\n",
    "sh = wb.sheet_by_index(0)\n",
    "sentiment = sh.col_values(0) \n",
    "tweet = sh.col_values(5) "
   ]
  },
  {
   "cell_type": "code",
   "execution_count": 114,
   "metadata": {
    "collapsed": true
   },
   "outputs": [],
   "source": [
    "#Convert unicode to ascii format\n",
    "\n",
    "asciiformattweet=[]\n",
    "for x in tweet:\n",
    "    try:\n",
    "        x=str(x).encode('ascii','ignore')\n",
    "        asciiformattweet.append(x)\n",
    "    except:\n",
    "        continue"
   ]
  },
  {
   "cell_type": "code",
   "execution_count": 115,
   "metadata": {
    "collapsed": true
   },
   "outputs": [],
   "source": [
    "#\n",
    "\n",
    "import re\n",
    "\n",
    "filteredtweet=[]\n",
    "for each in asciiformattweet:\n",
    "    #each= pattern.sub(lambda m: rep[re.escape(m.group(0))], str(each))\n",
    "    remove_hashtag=re.sub(r\"(?:#[\\w_]+)\", \"\", each)\n",
    "    remove_mention=re.sub(r\"(?:@[\\w_]+)\", \"\", remove_hashtag)\n",
    "    remove_url=re.sub(r\"http\\S+\", \"\", remove_mention)\n",
    "    filteredtweet.append(remove_url)\n"
   ]
  },
  {
   "cell_type": "code",
   "execution_count": 116,
   "metadata": {
    "collapsed": true
   },
   "outputs": [],
   "source": [
    "sen=[]\n",
    "for x in sentiment:\n",
    "    try:\n",
    "        x=str(x).encode('ascii','ignore')\n",
    "        sen.append(x)\n",
    "    except:\n",
    "        continue"
   ]
  },
  {
   "cell_type": "code",
   "execution_count": 117,
   "metadata": {
    "collapsed": true
   },
   "outputs": [],
   "source": [
    "completelist=zip(filteredtweet, sen)"
   ]
  },
  {
   "cell_type": "code",
   "execution_count": 118,
   "metadata": {
    "collapsed": false
   },
   "outputs": [
    {
     "data": {
      "text/plain": [
       "(\"Arrgh! I can't vote for Teen Choice Awards, cause I live in Norway! That's bullshit!! I' so mad right now \",\n",
       " 'negative')"
      ]
     },
     "execution_count": 118,
     "metadata": {},
     "output_type": "execute_result"
    }
   ],
   "source": [
    "completelist[1]"
   ]
  },
  {
   "cell_type": "code",
   "execution_count": 119,
   "metadata": {
    "collapsed": true
   },
   "outputs": [],
   "source": [
    "tweets = []\n",
    "\n",
    "for (words, sentiment) in completelist:\n",
    "    words_filtered = [e.lower() for e in words.split() if len(e) >= 3]\n",
    "    tweets.append((words_filtered, sentiment))"
   ]
  },
  {
   "cell_type": "code",
   "execution_count": 110,
   "metadata": {
    "collapsed": true
   },
   "outputs": [],
   "source": [
    "#Get features from the filtered tweets and their frequency distribution\n",
    "\n",
    "import nltk\n",
    "def get_words_in_tweets(tweets):\n",
    "    all_words = []\n",
    "    for (words, sentiment) in tweets:\n",
    "        all_words.extend(words)\n",
    "    return all_words\n",
    "def get_word_features(wordlist):\n",
    "    wordlist = nltk.FreqDist(wordlist)\n",
    "    word_features = wordlist.keys()\n",
    "    return word_features\n",
    "\n",
    "word_features = get_word_features(get_words_in_tweets(tweets))"
   ]
  },
  {
   "cell_type": "code",
   "execution_count": 120,
   "metadata": {
    "collapsed": true
   },
   "outputs": [],
   "source": [
    "# Extract features from feature list\n",
    "\n",
    "def extract_features(document):\n",
    "    document_words = set(document)\n",
    "    features = {}\n",
    "    for word in word_features:\n",
    "        features['contains(%s)' % word] = (word in document_words)\n",
    "    return features\n",
    "\n",
    "training_set = nltk.classify.apply_features(extract_features, tweets)"
   ]
  },
  {
   "cell_type": "code",
   "execution_count": 121,
   "metadata": {
    "collapsed": false
   },
   "outputs": [],
   "source": [
    "# Train the Classifier\n",
    "\n",
    "classifier = nltk.NaiveBayesClassifier.train(training_set)"
   ]
  },
  {
   "cell_type": "code",
   "execution_count": 126,
   "metadata": {
    "collapsed": false
   },
   "outputs": [
    {
     "name": "stdout",
     "output_type": "stream",
     "text": [
      "len is , 3251\n"
     ]
    }
   ],
   "source": [
    "# Read tweets related to Hillary Clinton\n",
    "\n",
    "import re\n",
    "import json\n",
    "import pandas as pd\n",
    "from DatumBox import DatumBox\n",
    "tweets_data_path=[]\n",
    "\n",
    "\n",
    "tweets_data_path.append('data/hillarytwitterfeed_dec6.txt')\n",
    "#tweets_data_path.append('data/hillarytwitterfeed_dec6_2.txt')\n",
    "#tweets_data_path.append('data/hillarytwitterfeed_dec6_3.txt')\n",
    "#tweets_data_path.append('data/hillarytwitterfeed_dec7_1.txt')\n",
    "#tweets_data_path.append('data/hillarytwitterfeed_dec7_2.txt')\n",
    "#tweets_data_path.append('data/hillarytwitterfeed_dec8_1.txt')\n",
    "#tweets_data_path.append('data/hillarytwitterfeed_dec8_2.txt')\n",
    "#tweets_data_path.append('data/hillarytwitterfeed_dec8_3.txt')\n",
    "#tweets_data_path.append('data/hillarytwitterfeed_dec8_4.txt')\n",
    "#tweets_data_path.append('data/hillarytwitterfeed_dec8_5.txt')\n",
    "#tweets_data_path.append('data/hillarytwitterfeed_dec8_6.txt')\n",
    "#tweets_data_path.append('data/hillarytwitterfeed_dec9_1.txt')\n",
    "#tweets_data_path.append('data/hillarytwitterfeed_dec9_2.txt')\n",
    "\n",
    "#datum_box = DatumBox(\"2a08df5439269850bebe32da098fd896\")\n",
    "tweets_data = []\n",
    "for each in tweets_data_path:\n",
    "    tweets_file = open(each, \"r\")\n",
    "    for line in tweets_file:\n",
    "        try:\n",
    "            tweet = json.loads(line)\n",
    "            tweets_data.append(tweet)\n",
    "        except:\n",
    "            continue\n",
    "tweetdata=[]\n",
    "for each in tweets_data:\n",
    "    try:\n",
    "        tweetdata.append(each['text'])\n",
    "    except:\n",
    "        continue\n",
    "\n",
    "print \"len is ,\",len(tweetdata)\n"
   ]
  },
  {
   "cell_type": "code",
   "execution_count": 127,
   "metadata": {
    "collapsed": false
   },
   "outputs": [
    {
     "data": {
      "text/plain": [
       "3251"
      ]
     },
     "execution_count": 127,
     "metadata": {},
     "output_type": "execute_result"
    }
   ],
   "source": [
    "# Eliminate the irrelevant information from the tweet\n",
    "import re\n",
    "\n",
    "filteredtweet=[]\n",
    "for each in tweetdata:\n",
    "    #each= pattern.sub(lambda m: rep[re.escape(m.group(0))], str(each))\n",
    "    remove_hashtag=re.sub(r\"(?:#[\\w_]+)\", \"\", each)\n",
    "    remove_mention=re.sub(r\"(?:@[\\w_]+)\", \"\", remove_hashtag)\n",
    "    remove_url=re.sub(r\"http\\S+\", \"\", remove_mention)\n",
    "    filteredtweet.append(remove_url)\n",
    "len(filteredtweet)"
   ]
  },
  {
   "cell_type": "code",
   "execution_count": 128,
   "metadata": {
    "collapsed": false
   },
   "outputs": [
    {
     "name": "stdout",
     "output_type": "stream",
     "text": [
      "positive  2325\n",
      "negative  926\n"
     ]
    }
   ],
   "source": [
    "# Predict the sentiment for the tweet\n",
    "p=0\n",
    "n=0\n",
    "for each in filteredtweet:\n",
    "    x=classifier.classify(extract_features(each.split()))\n",
    "    if x=='positive':\n",
    "        p=p+1\n",
    "    elif x=='negative':\n",
    "        n=n+1\n",
    "print \"positive \",p\n",
    "print \"negative \",n"
   ]
  },
  {
   "cell_type": "code",
   "execution_count": 129,
   "metadata": {
    "collapsed": false
   },
   "outputs": [
    {
     "name": "stdout",
     "output_type": "stream",
     "text": [
      "len is , 2626\n"
     ]
    }
   ],
   "source": [
    "# Read tweets related to Trump and applying the same steps as above\n",
    "\n",
    "import re\n",
    "import json\n",
    "import pandas as pd\n",
    "from DatumBox import DatumBox\n",
    "tweets_data_path=[]\n",
    "tweets_data_path.append('data/trumptwitterfeed_dec7_1.txt')\n",
    "#tweets_data_path.append('data/trumptwitterfeed_dec7_2.txt')\n",
    "#tweets_data_path.append('data/trumptwitterfeed_dec8_1.txt')\n",
    "#tweets_data_path.append('data/trumptwitterfeed_dec9_1.txt')\n",
    "#tweets_data_path.append('data/trumptwitterfeed_dec9_2.txt')\n",
    "#tweets_data_path.append('data/trumptwitterfeed_dec10_1.txt')\n",
    "#tweets_data_path.append('data/trumptwitterfeed_dec11_1.txt')\n",
    "\n",
    "#datum_box = DatumBox(\"2a08df5439269850bebe32da098fd896\")\n",
    "tweets_data = []\n",
    "for each in tweets_data_path:\n",
    "    tweets_file = open(each, \"r\")\n",
    "    for line in tweets_file:\n",
    "        try:\n",
    "            tweet = json.loads(line)\n",
    "            tweets_data.append(tweet)\n",
    "        except:\n",
    "            continue\n",
    "tweetdata=[]\n",
    "for each in tweets_data:\n",
    "    try:\n",
    "        tweetdata.append(each['text'])\n",
    "    except:\n",
    "        continue\n",
    "\n",
    "print \"len is ,\",len(tweetdata)\n"
   ]
  },
  {
   "cell_type": "code",
   "execution_count": 130,
   "metadata": {
    "collapsed": false
   },
   "outputs": [
    {
     "data": {
      "text/plain": [
       "2626"
      ]
     },
     "execution_count": 130,
     "metadata": {},
     "output_type": "execute_result"
    }
   ],
   "source": [
    "import re\n",
    "\n",
    "filteredtweet=[]\n",
    "for each in tweetdata:\n",
    "    #each= pattern.sub(lambda m: rep[re.escape(m.group(0))], str(each))\n",
    "    remove_hashtag=re.sub(r\"(?:#[\\w_]+)\", \"\", each)\n",
    "    remove_mention=re.sub(r\"(?:@[\\w_]+)\", \"\", remove_hashtag)\n",
    "    remove_url=re.sub(r\"http\\S+\", \"\", remove_mention)\n",
    "    filteredtweet.append(remove_url)\n",
    "len(filteredtweet)"
   ]
  },
  {
   "cell_type": "code",
   "execution_count": 33,
   "metadata": {
    "collapsed": false
   },
   "outputs": [
    {
     "name": "stdout",
     "output_type": "stream",
     "text": [
      "positive  1790\n",
      "negative  836\n"
     ]
    }
   ],
   "source": [
    "p_t=0\n",
    "n_t=0\n",
    "for each in filteredtweet:\n",
    "    x=classifier.classify(extract_features(each.split()))\n",
    "    if x=='positive':\n",
    "        p_t=p_t+1\n",
    "    elif x=='negative':\n",
    "        n_t=n_t+1\n",
    "print \"positive \",p_t\n",
    "print \"negative \",n_t"
   ]
  },
  {
   "cell_type": "code",
   "execution_count": 38,
   "metadata": {
    "collapsed": false
   },
   "outputs": [
    {
     "name": "stdout",
     "output_type": "stream",
     "text": [
      "68.1645087586\n"
     ]
    }
   ],
   "source": [
    "# calcuating the positivity score for trump\n",
    "\n",
    "t_positve_score=float(float(p_t)/float((p_t+n_t)))*100\n",
    "print t_positve_score"
   ]
  },
  {
   "cell_type": "code",
   "execution_count": 39,
   "metadata": {
    "collapsed": false
   },
   "outputs": [
    {
     "name": "stdout",
     "output_type": "stream",
     "text": [
      "71.1242153319\n"
     ]
    }
   ],
   "source": [
    "# calcuating the positivity score for hillary\n",
    "\n",
    "h_positve_score=float(float(p)/float((p+n)))*100\n",
    "print h_positve_score"
   ]
  },
  {
   "cell_type": "code",
   "execution_count": 96,
   "metadata": {
    "collapsed": false
   },
   "outputs": [
    {
     "data": {
      "image/png": "[encoded data removed]",
      "text/plain": [
       "<matplotlib.figure.Figure at 0x186fbe450>"
      ]
     },
     "metadata": {},
     "output_type": "display_data"
    }
   ],
   "source": [
    "%matplotlib inline\n",
    "\n",
    "import numpy as np\n",
    "import matplotlib.pyplot as plt\n",
    " \n",
    "objects = ('Trump', 'Hillary')\n",
    "y_pos = np.arange(len(objects))\n",
    "performance = [t_positve_score,h_positve_score]\n",
    " \n",
    "plt.bar(y_pos, performance, align='center', alpha=0.2)\n",
    "plt.xticks(y_pos, objects)\n",
    "plt.ylabel('Percentage')\n",
    "plt.title('Tweet Sentiment Score')\n",
    " \n",
    "plt.show()"
   ]
  },
  {
   "cell_type": "code",
   "execution_count": null,
   "metadata": {
    "collapsed": true
   },
   "outputs": [],
   "source": []
  }
 ],
 "metadata": {
  "kernelspec": {
   "display_name": "Python 2",
   "language": "python",
   "name": "python2"
  },
  "language_info": {
   "codemirror_mode": {
    "name": "ipython",
    "version": 2
   },
   "file_extension": ".py",
   "mimetype": "text/x-python",
   "name": "python",
   "nbconvert_exporter": "python",
   "pygments_lexer": "ipython2",
   "version": "2.7.10"
  }
 },
 "nbformat": 4,
 "nbformat_minor": 0
}
