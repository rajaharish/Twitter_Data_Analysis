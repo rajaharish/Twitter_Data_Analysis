{
 "cells": [
  {
   "cell_type": "code",
   "execution_count": 3,
   "metadata": {
    "collapsed": true
   },
   "outputs": [],
   "source": [
    "%matplotlib inline\n",
    "import pandas as pd\n",
    "import numpy as np\n",
    "import matplotlib as mpl\n",
    "import matplotlib.pyplot as plt\n",
    "import mrjobs as mr\n"
   ]
  },
  {
   "cell_type": "markdown",
   "metadata": {},
   "source": [
    "### Homework 4\n",
    "\n",
    "Copy this notebook. Rename it as: YOURNAME-HW4-mapreduce-XX\n",
    "\n",
    "with your name replacing YOURNAME and the xx replaced with the date you submit or copy this HW.\n",
    "\n",
    ".\n",
    "\n",
    "Upload your completed jupyter notebook to elearning site as your homework submission. Do not put this notebook on your github.\n",
    "\n",
    "\n",
    "Do all the homeworks problems below:\n",
    "As noted doing the homework gets a 3 out of 5. To do more create tutorials on how to use Map reduce for different analysis that were not assigned in this HW.\n",
    "\n",
    "Use the data+shakes.nonpunc.txt file as the source of you analysis in this homework"
   ]
  },
  {
   "cell_type": "markdown",
   "metadata": {},
   "source": [
    "##Homework 4.1\n",
    " A bigram is the combination of words.  Find the 10 most common bigrams from the text.  Order counts in the bigram combination for example \"in the\" is not the same bigram as \"the in\"\n",
    "\n"
   ]
  },
  {
   "cell_type": "code",
   "execution_count": 131,
   "metadata": {
    "collapsed": false,
    "scrolled": true
   },
   "outputs": [
    {
     "name": "stderr",
     "output_type": "stream",
     "text": [
      "You are using pip version 7.0.3, however version 7.1.2 is available.\n",
      "You should consider upgrading via the 'pip install --upgrade pip' command.\n"
     ]
    },
    {
     "name": "stdout",
     "output_type": "stream",
     "text": [
      "Requirement already satisfied (use --upgrade to upgrade): nltk in /Users/harish/Documents/anaconda/anaconda/lib/python2.7/site-packages\n"
     ]
    }
   ],
   "source": [
    "import pip    \n",
    "def install(package):\n",
    "   pip.main(['install', package])\n",
    "\n",
    "install('mrjob')\n",
    "install('nltk')"
   ]
  },
  {
   "cell_type": "markdown",
   "metadata": {},
   "source": [
    "# Contents"
   ]
  },
  {
   "cell_type": "markdown",
   "metadata": {},
   "source": [
    "The format of the Assignment is as follows:\n",
    "\n",
    "1) Each Question has MapReduce python file(which calculates bigrams/trigrams) and an additional python file(runner.py) to run corresponding MapReduce file and additional processing such as displaying top 10 results.\n",
    "\n",
    "2) The Runner program take inputfile as commandline argument and execute the map reduce job on that particular file.Here for all questions the textfile used was 'bible+shakes.nopunc.txt'\n",
    "\n",
    "3) As the inputfile has multiple lines, while processing bigrams the last word from previous line is appended to next line, in order to acheive the results similar to processing file which has single line.A similar logic for trigrams, where the last two words from previous line was appended to next line.\n",
    "\n",
    "4) All the runner.py files are same,they differ only by map reduce job they execute.I tried to use only one runner.py  by providing mapreduce job as command line argument along with the inputfile.But unfortunately I couldn't finish that.\n",
    "\n",
    "5) Assuming that input file is clean, no additional processing is done.\n",
    "\n",
    "6) For 4.4 to draw the graph, calculated mono,bi and trigrams for a portion of input file.\n"
   ]
  },
  {
   "cell_type": "code",
   "execution_count": 264,
   "metadata": {
    "collapsed": false
   },
   "outputs": [
    {
     "name": "stdout",
     "output_type": "stream",
     "text": [
      "Overwriting MRBiGramCount.py\n"
     ]
    }
   ],
   "source": [
    "%%file MRBiGramCount.py   \n",
    "\n",
    "#The MapReduce Job for calucalting bigrams.\n",
    "\n",
    "from mrjob.job import MRJob\n",
    "from mrjob.step import MRStep\n",
    "import re\n",
    "import nltk\n",
    "\n",
    "\n",
    "lastWord=None\n",
    "\n",
    "class MRBiGramCount(MRJob):\n",
    "\n",
    "    \n",
    "    def mapper(self, _, line):\n",
    "        if len(line.strip()) != 0 :\n",
    "            global lastWord\n",
    "            if lastWord is None:\n",
    "                lastWord = \"\"\n",
    "            updatedline=lastWord+\" \"+line\n",
    "            newword=nltk.word_tokenize(updatedline)\n",
    "            for word in nltk.bigrams(newword):\n",
    "                yield (word, 1)\n",
    "            lastWord = updatedline.split()[-1]\n",
    "\n",
    "    def reducer(self, word, counts):\n",
    "        SORT_VALUES = True\n",
    "        yield (word),sum(counts)\n",
    "\n",
    "if __name__ == '__main__':\n",
    "    lastWord=None\n",
    "    counter=0\n",
    "    MRBiGramCount.run()"
   ]
  },
  {
   "cell_type": "code",
   "execution_count": 2,
   "metadata": {
    "collapsed": false
   },
   "outputs": [
    {
     "name": "stdout",
     "output_type": "stream",
     "text": [
      "from MRBiGramCount import MRBiGramCount\r\n",
      "import sys\r\n",
      "import json\r\n",
      "import operator\r\n",
      "from collections import OrderedDict\r\n",
      "from collections import Counter\r\n",
      "\r\n",
      "\r\n",
      "if __name__ == '__main__':\r\n",
      "    # Creates an instance of our MRJob subclass\r\n",
      "    job = MRBiGramCount(args=sys.argv[1:])\r\n",
      "    with job.make_runner() as runner:\r\n",
      "        # Run the job\r\n",
      "        runner.run()\r\n",
      "  \r\n",
      "        # Process the output\r\n",
      "        data=OrderedDict()\r\n",
      "        for line in runner.stream_output():\r\n",
      "            key, value = job.parse_output_line(line)\r\n",
      "            data[str(tuple(key))]=value\r\n",
      "         \r\n",
      "        sorted_x= OrderedDict()\r\n",
      "        ListItems=list(sorted_x)\r\n",
      "        print Counter(data).most_common(10)"
     ]
    }
   ],
   "source": [
    "!cat BiGramRunner.py"
   ]
  },
  {
   "cell_type": "code",
   "execution_count": 1,
   "metadata": {
    "collapsed": false
   },
   "outputs": [
    {
     "name": "stdout",
     "output_type": "stream",
     "text": [
      "No handlers could be found for logger \"mrjob.runner\"\n",
      "[(\"('of', 'the')\", 13082), (\"('the', 'lord')\", 7148), (\"('and', 'the')\", 7071), (\"('in', 'the')\", 6782), (\"('to', 'the')\", 3822), (\"('i', 'will')\", 3518), (\"('and', 'he')\", 3040), (\"('shall', 'be')\", 3016), (\"('all', 'the')\", 2733), (\"('i', 'have')\", 2716)]\n"
     ]
    }
   ],
   "source": [
    "!python BiGramRunner.py data/bible+shakes.nopunc.txt"
   ]
  },
  {
   "cell_type": "markdown",
   "metadata": {},
   "source": [
    "##Homework 4.2\n",
    "Now do the same analysis but make the word order not count \"in the\" == \"the in\".  Find the 10 most common ordered bigrams from the alice text.  \n",
    " "
   ]
  },
  {
   "cell_type": "code",
   "execution_count": 266,
   "metadata": {
    "collapsed": false
   },
   "outputs": [
    {
     "name": "stdout",
     "output_type": "stream",
     "text": [
      "Overwriting SortedBiGramCount.py\n"
     ]
    }
   ],
   "source": [
    "%%file SortedBiGramCount.py  \n",
    "\n",
    "#The MapReduce Job for calucalting ordered bigrams.\n",
    "\n",
    "from mrjob.job import MRJob\n",
    "from mrjob.step import MRStep\n",
    "import re\n",
    "import nltk\n",
    "\n",
    "\n",
    "lastWord=None\n",
    "counter=0\n",
    "class SortedBiGramCount(MRJob):\n",
    "\n",
    "    \n",
    "    def mapper(self, _, line):\n",
    "        global lastWord\n",
    "        global counter\n",
    "        if lastWord is None:\n",
    "            lastWord = \"\"\n",
    "        updatedline=lastWord+\" \"+line\n",
    "        newword=nltk.word_tokenize(updatedline)\n",
    "        for word in nltk.bigrams(newword):\n",
    "            sortedbigram= sorted(word)\n",
    "            yield (sortedbigram, 1)\n",
    "        if(len(line.split()) <= 0):\n",
    "            counter=counter+1\n",
    "        else:\n",
    "             lastWord = updatedline.split()[-1]\n",
    "        \n",
    "\n",
    "   \n",
    "\n",
    "    def reducer(self, word, counts):\n",
    "        SORT_VALUES = True\n",
    "        yield (word),sum(counts)\n",
    "\n",
    "if __name__ == '__main__':\n",
    "    lastWord=None\n",
    "    counter=0\n",
    "    SortedBiGramCount.run()"
   ]
  },
  {
   "cell_type": "code",
   "execution_count": 3,
   "metadata": {
    "collapsed": false
   },
   "outputs": [
    {
     "name": "stdout",
     "output_type": "stream",
     "text": [
      "from SortedBiGramCount import SortedBiGramCount\r\n",
      "import sys\r\n",
      "import json\r\n",
      "import operator\r\n",
      "from collections import OrderedDict\r\n",
      "from collections import Counter\r\n",
      "\r\n",
      "\r\n",
      "if __name__ == '__main__':\r\n",
      "    # Creates an instance of our MRJob subclass\r\n",
      "    job=SortedBiGramCount(args=sys.argv[1:])\r\n",
      "    with job.make_runner() as runner:\r\n",
      "        # Run the job\r\n",
      "        runner.run()\r\n",
      "   \r\n",
      "        # Process the output\r\n",
      "        data=OrderedDict()\r\n",
      "        for line in runner.stream_output():\r\n",
      "            key, value = job.parse_output_line(line)\r\n",
      "            data[str(tuple(key))]=value \r\n",
      "\r\n",
      "        sorted_x= OrderedDict()\r\n",
      "        ListItems=list(sorted_x)\r\n",
      "        print Counter(data).most_common(10)"
     ]
    }
   ],
   "source": [
    "!cat sortedbigram_runner.py"
   ]
  },
  {
   "cell_type": "code",
   "execution_count": 6,
   "metadata": {
    "collapsed": false
   },
   "outputs": [
    {
     "name": "stdout",
     "output_type": "stream",
     "text": [
      "No handlers could be found for logger \"mrjob.runner\"\n",
      "[(\"('of', 'the')\", 13082), (\"('lord', 'the')\", 7419), (\"('and', 'the')\", 7071), (\"('in', 'the')\", 6783), (\"('i', 'will')\", 4156), (\"('the', 'to')\", 3822), (\"('have', 'i')\", 3182), (\"('and', 'he')\", 3160), (\"('be', 'shall')\", 3018), (\"('am', 'i')\", 2912)]\n"
     ]
    }
   ],
   "source": [
    "!python sortedbigram_runner.py data/bible+shakes.nopunc.txt"
   ]
  },
  {
   "cell_type": "markdown",
   "metadata": {},
   "source": [
    "##Homework 4.3\n",
    "A trigram are three word combintation.  Find the 10 most common ordered trigrams from the alice text.  Make it so that the order of the words do not count in the trigram combination for example \"in the air\" is the same trigram as \"the air in\" or \"air in the\"...\n"
   ]
  },
  {
   "cell_type": "code",
   "execution_count": 268,
   "metadata": {
    "collapsed": false
   },
   "outputs": [
    {
     "name": "stdout",
     "output_type": "stream",
     "text": [
      "Overwriting SortedTriGramCount.py\n"
     ]
    }
   ],
   "source": [
    "%%file SortedTriGramCount.py  \n",
    "\n",
    "#The MapReduce Job for calucalting ordered trigrams.\n",
    "\n",
    "from mrjob.job import MRJob\n",
    "from mrjob.step import MRStep\n",
    "import re\n",
    "import nltk\n",
    "\n",
    "\n",
    "lastWord=None\n",
    "\n",
    "class SortedTriGramCount(MRJob):\n",
    "\n",
    "    \n",
    "    def mapper(self, _, line):\n",
    "        global lastWord\n",
    "        global counter\n",
    "        if len(line.strip()) != 0 :\n",
    "            if lastWord is None:\n",
    "                lastWord = \"\"\n",
    "            from_prev_line=\" \".join(lastWord)    \n",
    "            updatedline=from_prev_line+\" \"+line\n",
    "            newword=nltk.word_tokenize(updatedline)\n",
    "            for word in nltk.ngrams(newword,3):\n",
    "                sortedbigram= sorted(word)\n",
    "                yield (sortedbigram, 1)\n",
    "                lastWord = updatedline.split()[-2:]\n",
    "        \n",
    "\n",
    "   \n",
    "\n",
    "    def reducer(self, word, counts):\n",
    "        SORT_VALUES = True\n",
    "        yield (word),sum(counts)\n",
    "\n",
    "if __name__ == '__main__':\n",
    "    lastWord=None\n",
    "    SortedTriGramCount.run()"
   ]
  },
  {
   "cell_type": "code",
   "execution_count": 4,
   "metadata": {
    "collapsed": false
   },
   "outputs": [
    {
     "name": "stdout",
     "output_type": "stream",
     "text": [
      "from SortedTriGramCount import SortedTriGramCount\r\n",
      "import sys\r\n",
      "import json\r\n",
      "import operator\r\n",
      "from collections import OrderedDict\r\n",
      "from collections import Counter\r\n",
      "\r\n",
      "\r\n",
      "if __name__ == '__main__':\r\n",
      "    # Creates an instance of our MRJob subclass\r\n",
      "    job=SortedTriGramCount(args=sys.argv[1:])\r\n",
      "    with job.make_runner() as runner:\r\n",
      "        # Run the job\r\n",
      "        runner.run()\r\n",
      "\r\n",
      "        \r\n",
      "        \r\n",
      "\r\n",
      "        #print json.dumps(data)    \r\n",
      "        # Process the output\r\n",
      "        data=OrderedDict()\r\n",
      "        for line in runner.stream_output():\r\n",
      "            key, value = job.parse_output_line(line)\r\n",
      "            #print 'key:', key, 'value:', value\r\n",
      "            data[str(tuple(key))]=value\r\n",
      "        # print(json.dumps(data)) \r\n",
      "\r\n",
      "        #sorted_x = sorted(data.items(), key=data.get)\r\n",
      "        sorted_x= OrderedDict()\r\n",
      "        #sorted_x = sorted(data.items(), key=operator.itemgetter(1))\r\n",
      "        #sorted_x=sorted(data.values())\r\n",
      "        ListItems=list(sorted_x)\r\n",
      "        #for words in ListItems[-5:]:\r\n",
      "        #\tprint words\r\n",
      "        print Counter(data).most_common(10)"
     ]
    }
   ],
   "source": [
    "!cat SortedTriGram_runner.py"
   ]
  },
  {
   "cell_type": "code",
   "execution_count": null,
   "metadata": {
    "collapsed": false
   },
   "outputs": [
    {
     "name": "stdout",
     "output_type": "stream",
     "text": [
      "No handlers could be found for logger \"mrjob.runner\"\r\n"
     ]
    }
   ],
   "source": [
    "!python SortedTriGram_runner.py data/bible+shakes.nopunc.txt"
   ]
  },
  {
   "cell_type": "markdown",
   "metadata": {
    "collapsed": false
   },
   "source": [
    "##Homework 4.4\n",
    "Create graphs to explain the relationship of the frequency of monograms ( words ) to bigrams and trigam frequencies"
   ]
  },
  {
   "cell_type": "code",
   "execution_count": 213,
   "metadata": {
    "collapsed": false
   },
   "outputs": [
    {
     "name": "stdout",
     "output_type": "stream",
     "text": [
      "Overwriting WordFrequency.py\n"
     ]
    }
   ],
   "source": [
    "%%file WordFrequency.py  #The MapReduce Job for calucalting frequency of monograms,bigrams and trigrams.\n",
    "\n",
    "from mrjob.job import MRJob\n",
    "from mrjob.step import MRStep\n",
    "import re\n",
    "import nltk\n",
    "\n",
    "\n",
    "lastWord=None\n",
    "lastWordTrigram=None\n",
    "\n",
    "class WordFrequency(MRJob):\n",
    "\n",
    "    \n",
    "    def mapper(self, _, line):\n",
    "        if len(line.strip()) != 0 :\n",
    "            global lastWord\n",
    "            global lastWordTrigram\n",
    "            if lastWord is None and lastWordTrigram is None:\n",
    "                lastWord = \"\"\n",
    "                lastWordTrigram = \"\"\n",
    "            from_prev_line_trigram=\" \".join(lastWordTrigram)    \n",
    "            updatedline_trigram=from_prev_line_trigram+\" \"+line\n",
    "            updatedline_bigram=lastWord+\" \"+line\n",
    "            newword_trigram=nltk.word_tokenize(updatedline_trigram)\n",
    "            newword_bigram=nltk.word_tokenize(updatedline_bigram)\n",
    "            yield \"monograms\",len(list(nltk.ngrams(nltk.word_tokenize(line),1)))\n",
    "            yield \"bigram\", len(list(nltk.bigrams(newword_bigram)))\n",
    "            yield \"trigram\", len(list(nltk.ngrams(newword_trigram,3)))\n",
    "            lastWord = updatedline_bigram.split()[-1]\n",
    "            lastWordTrigram=updatedline_trigram.split()[-2:]\n",
    "        \n",
    "    def combiner(self, key, values):\n",
    "        yield key,sum(values)\n",
    "\n",
    "if __name__ == '__main__':\n",
    "    lastWord=None\n",
    "    lastWordTrigram=None\n",
    "    WordFrequency.run()"
   ]
  },
  {
   "cell_type": "code",
   "execution_count": 5,
   "metadata": {
    "collapsed": false
   },
   "outputs": [
    {
     "name": "stdout",
     "output_type": "stream",
     "text": [
      "from WordFrequency import WordFrequency\r\n",
      "import sys\r\n",
      "import json\r\n",
      "import operator\r\n",
      "from collections import OrderedDict\r\n",
      "from collections import Counter\r\n",
      "\r\n",
      "\r\n",
      "if __name__ == '__main__':\r\n",
      "    # Creates an instance of our MRJob subclass\r\n",
      "    job=WordFrequency(args=sys.argv[1:])\r\n",
      "    with job.make_runner() as runner:\r\n",
      "        # Run the job\r\n",
      "        runner.run()\r\n",
      "\r\n",
      "        \r\n",
      "        \r\n",
      "\r\n",
      "        #print json.dumps(data)    \r\n",
      "        # Process the output\r\n",
      "        f = open(\"result.txt\", \"w\")\r\n",
      "        data=OrderedDict()\r\n",
      "        for line in runner.stream_output():\r\n",
      "            key, value = job.parse_output_line(line)\r\n",
      "            print 'key:', key, 'value:', value\r\n",
      "            f.write(str(str(key)+\" \"+str(value)))\r\n",
      "            f.write(\"\\n\")\r\n",
      "        f.close()"
     ]
    }
   ],
   "source": [
    "!cat WordFrequencyRunner.py"
   ]
  },
  {
   "cell_type": "code",
   "execution_count": 240,
   "metadata": {
    "collapsed": false
   },
   "outputs": [
    {
     "name": "stdout",
     "output_type": "stream",
     "text": [
      "No handlers could be found for logger \"mrjob.runner\"\n",
      "key: bigram value: 216\n",
      "key: monograms value: 217\n",
      "key: trigram value: 215\n"
     ]
    }
   ],
   "source": [
    "!python WordFrequencyRunner.py bible+shakes.nopunc.txt"
   ]
  },
  {
   "cell_type": "code",
   "execution_count": 261,
   "metadata": {
    "collapsed": false
   },
   "outputs": [
    {
     "name": "stdout",
     "output_type": "stream",
     "text": [
      "Bigrams  216\n",
      "Monograms  217\n",
      "Trigrams  215\n"
     ]
    },
    {
     "data": {
      "image/png": "[encoded data removed]",
      "text/plain": [
       "<matplotlib.figure.Figure at 0x10842cb10>"
      ]
     },
     "metadata": {},
     "output_type": "display_data"
    }
   ],
   "source": [
    "%matplotlib inline\n",
    "import matplotlib.pyplot as plt\n",
    "import nltk\n",
    "import numpy as np\n",
    "\n",
    "#The count is done for the portion of input file.\n",
    "\n",
    "#The relationship between monograms, bigrams and trigrams is, every time bigram count is one less than monogram,\n",
    "#and trigram is two less than monogram.\n",
    "\n",
    "\n",
    "#The FrequencyCount runner file write the map reduce job results to a 'result.txt' and I am using data from this \n",
    "#result file to draw the graph.\n",
    "\n",
    "f = open('result.txt')\n",
    "for line in f.readlines():\n",
    "    if 'bigram' in line:\n",
    "        bigrams=int(line.split()[-1])\n",
    "        print 'Bigrams ',bigrams\n",
    "    elif 'trigram' in line:\n",
    "        trigrams=int(line.split()[-1])\n",
    "        print 'Trigrams ',trigrams\n",
    "    else:\n",
    "        monograms=int(line.split()[-1])\n",
    "        print 'Monograms ',monograms\n",
    "N = 3\n",
    "WordFrequency = (monograms,bigrams,trigrams)\n",
    "\n",
    "\n",
    "ind = np.arange(N)  # the x locations for the groups\n",
    "width = 0.35       # the width of the bars\n",
    "\n",
    "fig, ax = plt.subplots()\n",
    "rects1 = ax.bar(ind, WordFrequency, width, color='g')\n",
    "\n",
    "\n",
    "# add some text for labels, title and axes ticks\n",
    "ax.set_ylabel('Frequency')\n",
    "ax.set_title('Word Count')\n",
    "ax.set_xticks(ind+width)\n",
    "ax.set_xticklabels( ('Monogram', 'Bigram', 'Trigram') )\n",
    "plt.show\n",
    "\n",
    "f.close()"
   ]
  },
  {
   "cell_type": "code",
   "execution_count": null,
   "metadata": {
    "collapsed": true
   },
   "outputs": [],
   "source": [
    " "
   ]
  }
 ],
 "metadata": {
  "kernelspec": {
   "display_name": "Python 2",
   "language": "python",
   "name": "python2"
  },
  "language_info": {
   "codemirror_mode": {
    "name": "ipython",
    "version": 2
   },
   "file_extension": ".py",
   "mimetype": "text/x-python",
   "name": "python",
   "nbconvert_exporter": "python",
   "pygments_lexer": "ipython2",
   "version": "2.7.10"
  }
 },
 "nbformat": 4,
 "nbformat_minor": 0
}
