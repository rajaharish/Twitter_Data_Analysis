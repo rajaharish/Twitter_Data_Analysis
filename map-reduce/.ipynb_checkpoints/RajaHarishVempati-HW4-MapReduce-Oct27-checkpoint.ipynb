{
 "cells": [
  {
   "cell_type": "code",
   "execution_count": 3,
   "metadata": {
    "collapsed": true
   },
   "outputs": [],
   "source": [
    "%matplotlib inline\n",
    "import pandas as pd\n",
    "import numpy as np\n",
    "import matplotlib as mpl\n",
    "import matplotlib.pyplot as plt\n",
    "import mrjobs as mr\n"
   ]
  },
  {
   "cell_type": "markdown",
   "metadata": {},
   "source": [
    "### Homework 4\n",
    "\n",
    "Copy this notebook. Rename it as: YOURNAME-HW4-mapreduce-XX\n",
    "\n",
    "with your name replacing YOURNAME and the xx replaced with the date you submit or copy this HW.\n",
    "\n",
    ".\n",
    "\n",
    "Upload your completed jupyter notebook to elearning site as your homework submission. Do not put this notebook on your github.\n",
    "\n",
    "\n",
    "Do all the homeworks problems below:\n",
    "As noted doing the homework gets a 3 out of 5. To do more create tutorials on how to use Map reduce for different analysis that were not assigned in this HW.\n",
    "\n",
    "Use the data+shakes.nonpunc.txt file as the source of you analysis in this homework"
   ]
  },
  {
   "cell_type": "markdown",
   "metadata": {},
   "source": [
    "##Homework 4.1\n",
    " A bigram is the combination of words.  Find the 10 most common bigrams from the text.  Order counts in the bigram combination for example \"in the\" is not the same bigram as \"the in\"\n",
    "\n"
   ]
  },
  {
   "cell_type": "code",
   "execution_count": 131,
   "metadata": {
    "collapsed": false
   },
   "outputs": [
    {
     "name": "stderr",
     "output_type": "stream",
     "text": [
      "You are using pip version 7.0.3, however version 7.1.2 is available.\n",
      "You should consider upgrading via the 'pip install --upgrade pip' command.\n"
     ]
    },
    {
     "name": "stdout",
     "output_type": "stream",
     "text": [
      "Requirement already satisfied (use --upgrade to upgrade): nltk in /Users/harish/Documents/anaconda/anaconda/lib/python2.7/site-packages\n"
     ]
    }
   ],
   "source": [
    "import pip    \n",
    "def install(package):\n",
    "   pip.main(['install', package])\n",
    "\n",
    "#install('mrjob')\n",
    "install('nltk')"
   ]
  },
  {
   "cell_type": "code",
   "execution_count": 441,
   "metadata": {
    "collapsed": false
   },
   "outputs": [
    {
     "name": "stdout",
     "output_type": "stream",
     "text": [
      "Overwriting WordCount.py\n"
     ]
    }
   ],
   "source": [
    "%%file WordCount.py\n",
    "\n",
    "import re\n",
    "from mrjob.job import MRJob\n",
    "\n",
    "class MRWordFrequencyCount(MRJob):\n",
    "\n",
    "    lastWord=None\n",
    "   \n",
    "        \n",
    "    def mapper(self, _, line):\n",
    "        \n",
    "        global lastWord\n",
    "        if lastWord is None:\n",
    "           lastWord = \"\"\n",
    "        line=lastWord+line\n",
    "        yield \"chars\", len(line)\n",
    "        yield \"words\", len(line.split())\n",
    "        yield \"lines\", 1\n",
    "        yield \"Bi grams\", len(re.findall(\"\\w+\",line))\n",
    "        yield \"last\", len(lastWord)\n",
    "        lastWord = line.split()[-1]\n",
    "        \n",
    "        \n",
    "\n",
    "    def reducer(self, key, values):\n",
    "        yield key, sum(values)\n",
    "\n",
    "\n",
    "if __name__ == '__main__':\n",
    "    lastWord=None\n",
    "    MRWordFrequencyCount.run()"
   ]
  },
  {
   "cell_type": "code",
   "execution_count": 442,
   "metadata": {
    "collapsed": false
   },
   "outputs": [
    {
     "name": "stdout",
     "output_type": "stream",
     "text": [
      "no configs found; falling back on auto-configuration\n",
      "no configs found; falling back on auto-configuration\n",
      "creating tmp directory /var/folders/fx/smy55tc51136lly1r1k3ypzr0000gn/T/WordCount.harish.20151020.203251.133834\n",
      "\n",
      "PLEASE NOTE: Starting in mrjob v0.5.0, protocols will be strict by default. It's recommended you run your job with --strict-protocols or set up mrjob.conf as described at https://pythonhosted.org/mrjob/whats-new.html#ready-for-strict-protocols\n",
      "\n",
      "writing to /var/folders/fx/smy55tc51136lly1r1k3ypzr0000gn/T/WordCount.harish.20151020.203251.133834/step-0-mapper_part-00000\n",
      "Counters from step 1:\n",
      "  (no counters found)\n",
      "writing to /var/folders/fx/smy55tc51136lly1r1k3ypzr0000gn/T/WordCount.harish.20151020.203251.133834/step-0-mapper-sorted\n",
      "> sort /var/folders/fx/smy55tc51136lly1r1k3ypzr0000gn/T/WordCount.harish.20151020.203251.133834/step-0-mapper_part-00000\n",
      "writing to /var/folders/fx/smy55tc51136lly1r1k3ypzr0000gn/T/WordCount.harish.20151020.203251.133834/step-0-reducer_part-00000\n",
      "Counters from step 1:\n",
      "  (no counters found)\n",
      "Moving /var/folders/fx/smy55tc51136lly1r1k3ypzr0000gn/T/WordCount.harish.20151020.203251.133834/step-0-reducer_part-00000 -> /var/folders/fx/smy55tc51136lly1r1k3ypzr0000gn/T/WordCount.harish.20151020.203251.133834/output/part-00000\n",
      "Streaming final output from /var/folders/fx/smy55tc51136lly1r1k3ypzr0000gn/T/WordCount.harish.20151020.203251.133834/output\n",
      "\"Bi grams\"\t30\n",
      "\"chars\"\t171\n",
      "\"last\"\t3\n",
      "\"lines\"\t2\n",
      "\"words\"\t30\n",
      "removing tmp directory /var/folders/fx/smy55tc51136lly1r1k3ypzr0000gn/T/WordCount.harish.20151020.203251.133834\n"
     ]
    }
   ],
   "source": [
    "\n",
    "!python WordCount.py bible+shakes.nopunc.txt"
   ]
  },
  {
   "cell_type": "code",
   "execution_count": 123,
   "metadata": {
    "collapsed": false
   },
   "outputs": [
    {
     "name": "stdout",
     "output_type": "stream",
     "text": [
      "Overwriting MRBiGramCount.py\n"
     ]
    }
   ],
   "source": [
    "%%file MRBiGramCount.py\n",
    "\n",
    "from mrjob.job import MRJob\n",
    "from mrjob.step import MRStep\n",
    "import re\n",
    "import nltk\n",
    "\n",
    "\n",
    "lastWord=None\n",
    "\n",
    "class MRBiGramCount(MRJob):\n",
    "\n",
    "    \n",
    "    def mapper(self, _, line):\n",
    "        # yield each word in the line\n",
    "        # for word in WORD_RE.findall(line):\n",
    "        if len(line.strip()) != 0 :\n",
    "            global lastWord\n",
    "            if lastWord is None:\n",
    "                lastWord = \"\"\n",
    "            updatedline=lastWord+\" \"+line\n",
    "            newword=nltk.word_tokenize(updatedline)\n",
    "            print list(nltk.bigrams(newword))\n",
    "            for word in nltk.bigrams(newword):\n",
    "                yield (word, 1)\n",
    "            #if(len(line.split()) > 0):\n",
    "            lastWord = updatedline.split()[-1]\n",
    "        \n",
    "\n",
    "   \n",
    "\n",
    "    def reducer(self, word, counts):\n",
    "        # send all (num_occurrences, word) pairs to the same reducer.\n",
    "        # num_occurrences is so we can easily use Python's max() function.\n",
    "        SORT_VALUES = True\n",
    "        yield (word),sum(counts)\n",
    "\n",
    "if __name__ == '__main__':\n",
    "    lastWord=None\n",
    "    counter=0\n",
    "    MRBiGramCount.run()"
   ]
  },
  {
   "cell_type": "code",
   "execution_count": 124,
   "metadata": {
    "collapsed": false
   },
   "outputs": [
    {
     "name": "stdout",
     "output_type": "stream",
     "text": [
      "No handlers could be found for logger \"mrjob.runner\"\n",
      "[('holy', 'bible'), ('bible', 'authorized'), ('authorized', 'king'), ('king', 'james'), ('james', 'version'), ('version', 'textfile'), ('textfile', '890904')]\n",
      "[('890904', 'daffar')]\n",
      "[('daffar', 'hello')]\n",
      "[('hello', 'die'), ('die', 'of')]\n",
      "[(\"('daffar', 'hello')\", 1), (\"('890904', 'daffar')\", 1), (\"('textfile', '890904')\", 1), (\"('authorized', 'king')\", 1), (\"('die', 'of')\", 1), (\"('bible', 'authorized')\", 1), (\"('holy', 'bible')\", 1), (\"('hello', 'die')\", 1), (\"('king', 'james')\", 1), (\"('james', 'version')\", 1)]\n"
     ]
    }
   ],
   "source": [
    "!python BiGramRunner.py sorted_bigram.txt"
   ]
  },
  {
   "cell_type": "markdown",
   "metadata": {},
   "source": [
    "##Homework 4.2\n",
    "Now do the same analysis but make the word order not count \"in the\" == \"the in\".  Find the 10 most common ordered bigrams from the alice text.  \n",
    " "
   ]
  },
  {
   "cell_type": "code",
   "execution_count": 126,
   "metadata": {
    "collapsed": false
   },
   "outputs": [
    {
     "name": "stdout",
     "output_type": "stream",
     "text": [
      "Overwriting SortedBiGramCount.py\n"
     ]
    }
   ],
   "source": [
    "%%file SortedBiGramCount.py\n",
    "\n",
    "from mrjob.job import MRJob\n",
    "from mrjob.step import MRStep\n",
    "import re\n",
    "import nltk\n",
    "\n",
    "WORD_RE = re.compile(r\"[\\w']+\")\n",
    "lastWord=None\n",
    "counter=0\n",
    "class SortedBiGramCount(MRJob):\n",
    "\n",
    "    \n",
    "    def mapper(self, _, line):\n",
    "        # yield each word in the line\n",
    "        # for word in WORD_RE.findall(line):\n",
    "        global lastWord\n",
    "        global counter\n",
    "        if lastWord is None:\n",
    "            lastWord = \"\"\n",
    "        updatedline=lastWord+\" \"+line\n",
    "        newword=nltk.word_tokenize(updatedline)\n",
    "        for word in nltk.bigrams(newword):\n",
    "            sortedbigram= sorted(word)\n",
    "            yield (sortedbigram, 1)\n",
    "        if(len(line.split()) <= 0):\n",
    "            counter=counter+1\n",
    "            #print counter\n",
    "        else:\n",
    "             lastWord = updatedline.split()[-1]\n",
    "        \n",
    "\n",
    "   \n",
    "\n",
    "    def reducer(self, word, counts):\n",
    "        # send all (num_occurrences, word) pairs to the same reducer.\n",
    "        # num_occurrences is so we can easily use Python's max() function.\n",
    "        SORT_VALUES = True\n",
    "        yield (word),sum(counts)\n",
    "\n",
    "if __name__ == '__main__':\n",
    "    lastWord=None\n",
    "    counter=0\n",
    "    SortedBiGramCount.run()"
   ]
  },
  {
   "cell_type": "code",
   "execution_count": 59,
   "metadata": {
    "collapsed": false
   },
   "outputs": [
    {
     "name": "stdout",
     "output_type": "stream",
     "text": [
      "No handlers could be found for logger \"mrjob.runner\"\n",
      "[(\"('of', 'the')\", 13082), (\"('lord', 'the')\", 7419), (\"('and', 'the')\", 7071), (\"('in', 'the')\", 6783), (\"('i', 'will')\", 4156), (\"('the', 'to')\", 3822), (\"('have', 'i')\", 3182), (\"('and', 'he')\", 3160), (\"('be', 'shall')\", 3018), (\"('am', 'i')\", 2912)]\n"
     ]
    }
   ],
   "source": [
    "!python sortedbigram_runner.py data/bible+shakes.nopunc.txt"
   ]
  },
  {
   "cell_type": "markdown",
   "metadata": {},
   "source": [
    "##Homework 4.3\n",
    "A trigram are three word combintation.  Find the 10 most common ordered trigrams from the alice text.  Make it so that the order of the words do not count in the trigram combination for example \"in the air\" is the same trigram as \"the air in\" or \"air in the\"...\n"
   ]
  },
  {
   "cell_type": "code",
   "execution_count": 115,
   "metadata": {
    "collapsed": false
   },
   "outputs": [
    {
     "name": "stdout",
     "output_type": "stream",
     "text": [
      "Overwriting SortedTriGramCount.py\n"
     ]
    }
   ],
   "source": [
    "%%file SortedTriGramCount.py\n",
    "\n",
    "from mrjob.job import MRJob\n",
    "from mrjob.step import MRStep\n",
    "import re\n",
    "import nltk\n",
    "\n",
    "\n",
    "lastWord=None\n",
    "\n",
    "class SortedTriGramCount(MRJob):\n",
    "\n",
    "    \n",
    "    def mapper(self, _, line):\n",
    "        # yield each word in the line\n",
    "        # for word in WORD_RE.findall(line):\n",
    "        global lastWord\n",
    "        global counter\n",
    "        if len(line.strip()) != 0 :\n",
    "            if lastWord is None:\n",
    "                lastWord = \"\"\n",
    "            from_prev_line=\" \".join(lastWord)    \n",
    "            updatedline=from_prev_line+\" \"+line\n",
    "            newword=nltk.word_tokenize(updatedline)\n",
    "            for word in nltk.ngrams(newword,3):\n",
    "                sortedbigram= sorted(word)\n",
    "                yield (sortedbigram, 1)\n",
    "                lastWord = updatedline.split()[-2:]\n",
    "        \n",
    "\n",
    "   \n",
    "\n",
    "    def reducer(self, word, counts):\n",
    "        # send all (num_occurrences, word) pairs to the same reducer.\n",
    "        # num_occurrences is so we can easily use Python's max() function.\n",
    "        SORT_VALUES = True\n",
    "        yield (word),sum(counts)\n",
    "\n",
    "if __name__ == '__main__':\n",
    "    lastWord=None\n",
    "    SortedTriGramCount.run()"
   ]
  },
  {
   "cell_type": "code",
   "execution_count": 129,
   "metadata": {
    "collapsed": false
   },
   "outputs": [
    {
     "name": "stdout",
     "output_type": "stream",
     "text": [
      "No handlers could be found for logger \"mrjob.runner\"\n",
      "[(\"('lord', 'of', 'the')\", 2087), (\"('children', 'of', 'the')\", 1795), (\"('house', 'of', 'the')\", 1583), (\"('of', 'son', 'the')\", 1527), (\"('and', 'lord', 'the')\", 1432), (\"('land', 'of', 'the')\", 1025), (\"('lord', 'saith', 'the')\", 866), (\"('of', 'out', 'the')\", 858), (\"('king', 'of', 'the')\", 827), (\"('and', 'i', 'will')\", 823)]\n"
     ]
    }
   ],
   "source": [
    "!python SortedTriGram_runner.py data/bible+shakes.nopunc.txt"
   ]
  },
  {
   "cell_type": "code",
   "execution_count": 114,
   "metadata": {
    "collapsed": false
   },
   "outputs": [
    {
     "name": "stdout",
     "output_type": "stream",
     "text": [
      "are you this is second line\n"
     ]
    }
   ],
   "source": [
    "s= \"hello how are you\"\n",
    "s2= \"this is second line\"\n",
    "v= s.split()[-2:]\n",
    "vs=\" \".join(v)\n",
    "print vs+\" \"+s2"
   ]
  },
  {
   "cell_type": "markdown",
   "metadata": {
    "collapsed": false
   },
   "source": [
    "##Homework 4.4\n",
    "Create graphs to explain the relationship of the frequency of monograms ( words ) to bigrams and trigam frequencies"
   ]
  },
  {
   "cell_type": "code",
   "execution_count": 186,
   "metadata": {
    "collapsed": false
   },
   "outputs": [
    {
     "name": "stdout",
     "output_type": "stream",
     "text": [
      "Overwriting WordFrequency.py\n"
     ]
    }
   ],
   "source": [
    "%%file WordFrequency.py\n",
    "\n",
    "from mrjob.job import MRJob\n",
    "from mrjob.step import MRStep\n",
    "import re\n",
    "import nltk\n",
    "\n",
    "\n",
    "lastWord=None\n",
    "lastWordTrigram=None\n",
    "\n",
    "class WordFrequency(MRJob):\n",
    "\n",
    "    \n",
    "    def mapper(self, _, line):\n",
    "        # yield each word in the line\n",
    "        # for word in WORD_RE.findall(line):\n",
    "        if len(line.strip()) != 0 :\n",
    "            global lastWord\n",
    "            global lastWordTrigram\n",
    "            if lastWord is None and lastWordTrigram is None:\n",
    "                lastWord = \"\"\n",
    "                lastWordTrigram = \"\"\n",
    "            from_prev_line_trigram=\" \".join(lastWordTrigram)    \n",
    "            updatedline_trigram=from_prev_line_trigram+\" \"+line\n",
    "            updatedline_bigram=lastWord+\" \"+line\n",
    "            newword_trigram=nltk.word_tokenize(updatedline_trigram)\n",
    "            newword_bigram=nltk.word_tokenize(updatedline_bigram)\n",
    "            yield \"monograms\",len(list(nltk.ngrams(nltk.word_tokenize(line),1)))\n",
    "            #for bigram in nltk.bigrams(newword):\n",
    "            yield \"bigram\", len(list(nltk.bigrams(newword_bigram)))\n",
    "            #for word in nltk.ngrams(newword,3)\n",
    "            yield \"trigram\", len(list(nltk.ngrams(newword_trigram,3)))\n",
    "            lastWord = updatedline_bigram.split()[-1]\n",
    "            lastWordTrigram=updatedline_trigram.split()[-2:]\n",
    "        \n",
    "    def combiner(self, key, values):\n",
    "        yield None,(key, sum(values))\n",
    "        \n",
    "    def reducer(self,_,values):\n",
    "        s=100\n",
    "        print \"it is \",s\n",
    "\n",
    "if __name__ == '__main__':\n",
    "    lastWord=None\n",
    "    lastWordTrigram=None\n",
    "    WordFrequency.run()"
   ]
  },
  {
   "cell_type": "code",
   "execution_count": 187,
   "metadata": {
    "collapsed": false
   },
   "outputs": [
    {
     "name": "stdout",
     "output_type": "stream",
     "text": [
      "no configs found; falling back on auto-configuration\n",
      "no configs found; falling back on auto-configuration\n",
      "creating tmp directory /var/folders/fx/smy55tc51136lly1r1k3ypzr0000gn/T/WordFrequency.harish.20151027.192523.893710\n",
      "\n",
      "PLEASE NOTE: Starting in mrjob v0.5.0, protocols will be strict by default. It's recommended you run your job with --strict-protocols or set up mrjob.conf as described at https://pythonhosted.org/mrjob/whats-new.html#ready-for-strict-protocols\n",
      "\n",
      "writing to /var/folders/fx/smy55tc51136lly1r1k3ypzr0000gn/T/WordFrequency.harish.20151027.192523.893710/step-0-mapper_part-00000\n",
      "Counters from step 1:\n",
      "  (no counters found)\n",
      "writing to /var/folders/fx/smy55tc51136lly1r1k3ypzr0000gn/T/WordFrequency.harish.20151027.192523.893710/step-0-mapper-sorted\n",
      "> sort /var/folders/fx/smy55tc51136lly1r1k3ypzr0000gn/T/WordFrequency.harish.20151027.192523.893710/step-0-mapper_part-00000\n",
      "writing to /var/folders/fx/smy55tc51136lly1r1k3ypzr0000gn/T/WordFrequency.harish.20151027.192523.893710/step-0-reducer_part-00000\n",
      "<generator object <genexpr> at 0x106e24460>\n",
      "Counters from step 1:\n",
      "  (no counters found)\n",
      "Moving /var/folders/fx/smy55tc51136lly1r1k3ypzr0000gn/T/WordFrequency.harish.20151027.192523.893710/step-0-reducer_part-00000 -> /var/folders/fx/smy55tc51136lly1r1k3ypzr0000gn/T/WordFrequency.harish.20151027.192523.893710/output/part-00000\n",
      "Streaming final output from /var/folders/fx/smy55tc51136lly1r1k3ypzr0000gn/T/WordFrequency.harish.20151027.192523.893710/output\n",
      "removing tmp directory /var/folders/fx/smy55tc51136lly1r1k3ypzr0000gn/T/WordFrequency.harish.20151027.192523.893710\n"
     ]
    }
   ],
   "source": [
    "!python WordFrequency.py bible+shakes.nopunc.txt"
   ]
  },
  {
   "cell_type": "code",
   "execution_count": 176,
   "metadata": {
    "collapsed": false
   },
   "outputs": [
    {
     "data": {
      "text/plain": [
       "<function matplotlib.pyplot.show>"
      ]
     },
     "execution_count": 176,
     "metadata": {},
     "output_type": "execute_result"
    },
    {
     "data": {
      "image/png": "[encoded data removed]",
      "text/plain": [
       "<matplotlib.figure.Figure at 0x10927f410>"
      ]
     },
     "metadata": {},
     "output_type": "display_data"
    }
   ],
   "source": [
    "%matplotlib inline\n",
    "import matplotlib.pyplot as plt\n",
    "import nltk\n",
    "import numpy as np\n",
    "\n",
    "f = open('bible+shakes.nopunc.txt')\n",
    "raw = f.read()\n",
    "\n",
    "tokens = nltk.word_tokenize(raw)\n",
    "\n",
    "#Create your bigrams\n",
    "monograms = len(list(nltk.ngrams(tokens,1))) #1752212\n",
    "bigrams = len(list(nltk.ngrams(tokens,2)))\n",
    "trigrams = len(list(nltk.ngrams(tokens,3)))\n",
    "'''\n",
    "fre=[monograms,bigrams,trigrams]\n",
    "\n",
    "fig, ax = plt.subplots()\n",
    "ax.tick_params(axis='x', labelsize=15)\n",
    "ax.tick_params(axis='y', labelsize=10)\n",
    "ax.set_xlabel('Frequency', fontsize=15)\n",
    "ax.set_ylabel('count' , fontsize=15)\n",
    "ax.set_title('Top 5 languages', fontsize=15, fontweight='bold')\n",
    "fre.plot(ax=ax, kind='bar', color='red')\n",
    "'''\n",
    "\n",
    "N = 3\n",
    "WordFrequency = (monograms,bigrams,trigrams)\n",
    "\n",
    "\n",
    "ind = np.arange(N)  # the x locations for the groups\n",
    "width = 0.35       # the width of the bars\n",
    "\n",
    "fig, ax = plt.subplots()\n",
    "rects1 = ax.bar(ind, WordFrequency, width, color='g')\n",
    "\n",
    "\n",
    "\n",
    "# add some text for labels, title and axes ticks\n",
    "ax.set_ylabel('Scores')\n",
    "ax.set_title('Scores by group and gender')\n",
    "ax.set_xticks(ind+width)\n",
    "ax.set_xticklabels( ('Monogram', 'Bigram', 'Trigram') )\n",
    "plt.show"
   ]
  },
  {
   "cell_type": "code",
   "execution_count": 179,
   "metadata": {
    "collapsed": false
   },
   "outputs": [],
   "source": [
    "!python bargraph.py "
   ]
  },
  {
   "cell_type": "code",
   "execution_count": null,
   "metadata": {
    "collapsed": true
   },
   "outputs": [],
   "source": []
  }
 ],
 "metadata": {
  "kernelspec": {
   "display_name": "Python 2",
   "language": "python",
   "name": "python2"
  },
  "language_info": {
   "codemirror_mode": {
    "name": "ipython",
    "version": 2
   },
   "file_extension": ".py",
   "mimetype": "text/x-python",
   "name": "python",
   "nbconvert_exporter": "python",
   "pygments_lexer": "ipython2",
   "version": "2.7.10"
  }
 },
 "nbformat": 4,
 "nbformat_minor": 0
}
